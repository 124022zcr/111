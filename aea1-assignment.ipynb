{
 "cells": [
  {
   "cell_type": "markdown",
   "metadata": {},
   "source": [
    "# A model of predatory buying \n",
    "Wu Mou \t\t      \n",
    "snr:2002359 \t  anr:119654\n",
    "\n",
    "Zhao Congrui \t\t\n",
    "snr:2015342 \t anr:552980\n"
   ]
  },
  {
   "cell_type": "markdown",
   "metadata": {},
   "source": [
    "# Research Question\n",
    "\n",
    "In this assignment, we want to find the solution of an asymmetric equilibrium of a Bertrand-Edgeworth model and characterize it. In addition, we also hope to examine the predatory buying in this model. "
   ]
  },
  {
   "cell_type": "markdown",
   "metadata": {},
   "source": [
    "# Motivation\n",
    "\n",
    "This question is interesting. As an important model, Bertrand-Edgeworth model shed light on the behavior of firms in competition in which capacity is endogenous. This framework enables economists to analyze the market competition in a more complex scenario. In most of Betrand-Edgeworth models, there are symmetric equilibria, such as Kreps & Sheinkman (1983). And in some models, pure strategy equilibrium does not exist. Reynolds & Wilson (2000) is one of the few models with asymmetric pure strategy equilibrium with demand uncertainty. This model can help to analyze the competitions between firms with different capacities.\n",
    "\n",
    "This kind of competition is very common in reality. Furthermore, some important competition strategies may happen in this case, such as predatory buying. This model provide a good way to further people’s understanding on these strategies. \n",
    "\n",
    "However, in Kreps & Sheinkman’s paper (2000), although the asymmetric pure strategy equilibria exist, it is too difficult to obtain the analytical solution of the model in a simple way of calculating. So actually, they did not provide the analytical solutions of this model in their results. This can be an obstacle for the analysis that focuses on scenario that this model intend to depict or even more complicated cases. In this assignment, we hope to use python to find the analytical solutions of this. Our conclusion will be instrumental in understanding this model.\n"
   ]
  },
  {
   "cell_type": "markdown",
   "metadata": {},
   "source": [
    "# Method\n",
    "\n",
    "We hope to use the symbolic operation of python to firstly find the analytical solution of a modified Reynolds and Wilson’s model (more complex) and the solutions of this model with predatory buying. We will try to examine the validity of their conclusion of asymmetric equilibrium in these assumptions. And we also hope to make sense and characterize these solutions. "
   ]
  },
  {
   "cell_type": "markdown",
   "metadata": {},
   "source": [
    "# Assumptions\n",
    "\n",
    "We mainly inherit the assumptions of Reynolds and Wilson’s model of asymmetric equilibrium with little changes. Reynolds and Wilson’s model is a Bertrand-Edgeworth model. In this model, the two firms choose capacity at first stage and chose their quantities in later stage. In some cases, the capacities are full utilized, while in other cases, they are not. In the subgames of choosing, different choices of capacities yield different outcomes (revenues). Some of these outcomes can be equilibria.\n",
    "\n",
    "- Assumption 1: \n",
    "\n",
    "In the output market, the inverse demand function is\n",
    "\\begin{equation*}\n",
    "P(q,a) =\n",
    "\\begin{cases}\n",
    "a-q & \\text{if $q\\leq a$}\\\\\n",
    "0 & \\text{if $q > a$}\n",
    "\\end{cases}\n",
    "\\end{equation*}\n",
    "\n",
    "Demand level is \n",
    "\\begin{equation*}\n",
    "a =\n",
    "\\begin{cases}\n",
    "\\underline{a} & \\text{if $\\underline{a}> 0$}\\\\\n",
    "\\underline{a} & \\text{if $\\overline{a}\\le \\underline{a}$}\n",
    "\\end{cases}\n",
    "\\end{equation*}\n",
    "\n",
    "- Assumption 2:\n",
    "\n",
    "Demand is rationed according to the efficient-rationing rule.\n",
    "\n",
    "- Assumption 3:\n",
    "\n",
    "The cost is determined by the demand for the input. The price of input is determined by the function: \n",
    "\\begin{equation*}\n",
    "p_w=c+w_1+w_2\n",
    "\\end{equation*}\n",
    "\n",
    "This assumption implies that the higher demand for the input, the higher price of input. This is the only assumption which the Reynolds and Wilson’s doesn’t have.\n",
    "\n",
    "- Assumption 4:\n",
    "\n",
    "There is no production cost other than input cost.\n",
    "\n",
    "- Assumption 5:\n",
    "\n",
    "The input level determines the production capacity of a firm. The production function for each firm is \n",
    "\\begin{equation*}\n",
    "F(w_1)=w_1\n",
    "\\end{equation*}"
   ]
  },
  {
   "cell_type": "markdown",
   "metadata": {
    "collapsed": true
   },
   "source": [
    "In order to analyze the problem, some concepts are important:\n",
    "\n",
    "$$\n",
    "A(a)={(X,Y)\\mid X≥0,Y≥0,X≤b(Y,a),Y≤b(X,a)}\n",
    "$$\n",
    "\n",
    "$$\n",
    "B(a)={(X,Y)\\mid X≥q(a),Y≥q(a)}\n",
    "$$\n",
    "\n",
    "$$\n",
    "C(a)={(X,Y)\\mid X≥0,Y≥0,(X,Y)∉A(a),(X,Y)∉B(a)}\n",
    "$$"
   ]
  },
  {
   "cell_type": "markdown",
   "metadata": {},
   "source": [
    "In Kreps and Scheinkman (1983) and Osborne and Pitchik (1986), expected revenue for firm one in a subgame equilibrium is analyzed. Their conclusions can be summarized as follows:\n",
    "\n",
    "\\begin{equation*}\n",
    "r(X,Y,a) =\n",
    "\\begin{cases}\n",
    "P(X+Y,a)X & \\text{if $(X,Y) \\in A(a)$}\\\\\n",
    "\\frac{X}{Y}R(X,a) & \\text{if $(X,Y) \\in C(a) , R(X,a) \\leq Y*P(Y,a)$}\\\\\n",
    "\\widetilde{s}X &\\text{if $(X,Y) \\in C(a), X\\leq Y,R(X,a)>Y*P(Y,a)$}\\\\\n",
    "R(Y,a) &\\text {if $(X,Y) \\in C(a), X>Y$}\\\\\n",
    "0 &\\text {if $(X,Y) \\in B(a)$}\n",
    "\\end{cases}\n",
    "\\end{equation*}\n"
   ]
  },
  {
   "cell_type": "markdown",
   "metadata": {},
   "source": [
    "Based on these assumptions and lemmas, we will find that in our model (when the linear input price function is taken into considered), most of the conclusion of Reynolds & Wilson, 2000, can be reproduced. "
   ]
  },
  {
   "cell_type": "markdown",
   "metadata": {},
   "source": [
    "# Modelling\n",
    "\n",
    "## Proposition\n",
    "\n",
    "- If $2\\underline a≥E(a)-c $,\n",
    "\n",
    "There is a symmetric equilibrium in capacity choice, with capacity full utilized and price are set equal to the market clearing level for every demand realization in this equilibrium.\n",
    "\n",
    "- If $2\\underline a<E(a)-c$,\n",
    "\n",
    "A symmetric equilibrium in pure strategy for capacity choices does not exist. There are pure strategy asymmetric equilibria in capacity investment . In this case, when the probability of lower demand is big enough, predatory is profitable for the firm with larger market share. However, it is always unprofitable for the firm with low market share. "
   ]
  },
  {
   "cell_type": "markdown",
   "metadata": {},
   "source": [
    "## Proof\n",
    "\n",
    "- The profit of firm 1 can be written as:\n",
    "$π_1 =\\theta(\\underline a-x-y)x+(1-\\theta)(\\overline a-x-y)x-(c+x+y)x$\n",
    "\n",
    "First order condition:\n",
    "\n",
    "$$\n",
    "\\frac{(∂π_1)}{∂x}=E(a)-c-2(2x+y)=0\n",
    "$$\n",
    "$$\n",
    "x^*=\\frac{1}{4}(E(a)-c-2y)\n",
    "$$\n",
    "\n",
    "Assume the equilibrium, we can get $x^*=y^*=\\frac{1}{6}(E(a)-c)$\n",
    "\n",
    "Verify if $X^*$ is in the A(a), $b(y,\\underline a)=\\frac{1}{2} (\\underline a-y)$.\n",
    "\n",
    "So the solution is consistent with the assumption. $(x^*,y^*)$ can be an (symmetric) equilibrium.\n"
   ]
  },
  {
   "cell_type": "markdown",
   "metadata": {},
   "source": [
    "- $2\\underline a<E(a)-c$\n",
    "\n",
    "First order condition (assuming the profit is maximized in the region A):\n",
    "$\\frac{(∂π_1)}{∂x}=E(a)-c-2(2x+y)=0$\n",
    "\n",
    "$$x^*=y^*=\\frac{(E(a)-c)}{6}$$\n",
    "\n",
    "According to the assumption, we have $x^*=y^*=\\frac{(E(a)-c)}{6}>b (y^*,\\underline a)$\n",
    "\n",
    "So this symmetry capacity choices do not lie in the region A.\n",
    "\n",
    "According to the function of price in output market, we have.\n",
    "$q(\\underline a)=\\underline a$\n",
    "$x^*-q(\\underline a)=\\frac{(\\theta\\underline a+(1-\\theta)\\overline a-c)}{6}-\\underline a<\\frac{(2\\underline a)}{6}-\\underline a<0$\n",
    "\n",
    "So the symmetry do not lie in the region B.\n",
    "\n",
    "The only possibility is that the symmetry capacity choices is a point in region C. \n",
    "\n",
    "Assume $(x',y')\\in C$，and $(x',y')$ is the capacities that maximized the profit. From the revenue functions, we have mentioned in forgoing section, we know that. \n",
    "\n",
    "For $x >x'$, revenue $r(x, y',a)$ is independent of $x$, so we have $\\frac{∂ r(x',y',a)}{∂x}\\mid _+=0$.\n"
   ]
  },
  {
   "cell_type": "markdown",
   "metadata": {},
   "source": [
    "While for x smaller than and sufficient close to $(x',y')$, the expected revenue function for firm 1 is $r(x, y',a)=\\frac{x}{y} b(x,a)P(b(x,a)+x,a)$.\n",
    "\n",
    "$$\\frac{∂ r(x',y',a)}{∂x}\\mid _-=\\frac{1}{y'}[bP+x'b_1P+x'bP_1(b_1+1)]=\\frac{1}{y'}[bP+x'bP_1+x'b_1(P+bP_1)]=\\frac{1}{y'}[bP+x'bP_1 ]<\\frac{(b(x',a)}{y'}[P(b(x',a))+bP_1]=0$$\n",
    "\n",
    "$$\\frac{∂ r(x',y',a)}{∂x}\\mid _-<\\frac{∂r(x',y',a)}{∂x}\\mid_+=0$$\n"
   ]
  },
  {
   "cell_type": "markdown",
   "metadata": {},
   "source": [
    "Because the derivative of revenue function with respect to capacity will have a jump in the “profit-maximization” point, so it cannot be an optimal point. The revenue function of our model doesn’t change, while the cost (linear price function of input) is continuous. So the jump will still exist in our model.\n",
    "\n",
    "Therefore, the symmetry equilibrium doesn’t exist.\n"
   ]
  },
  {
   "cell_type": "markdown",
   "metadata": {},
   "source": [
    "- Characterize the asymmetric equilibria. \n",
    "\n",
    "Assume the capacity of firm one is larger than that of the capacity of firm two, $x>y$, suppose $x$ and $y$ are in the region C.\n",
    "\n",
    "If the demand is low, the expected profit for firm one in the pricing subgame is \n",
    "$π_1 (x,y)= \\theta R(y,\\underline a)+(1-\\theta)*x*(\\overline a-x-y)-(c+x+y)*x$\n",
    "\n",
    "The expected profit for firm two,\n",
    "$π_2 (y,x)= \\theta(\\frac{y}{x})R(y,\\underline a)+(1-\\theta)*y*(\\overline a-x-y)-(c+x+y)*y$, where $R(y,\\underline a)=\\frac{1}{4}(\\underline a-y)^2$\n",
    "\n"
   ]
  },
  {
   "cell_type": "markdown",
   "metadata": {},
   "source": [
    "First order condition for firm 1: $$\\frac{∂π_1}{∂x}=(1-\\theta)(\\overline a-2x-y)-(c+2x+y)=0$$\n",
    "\n",
    "And first order condition for firm 2: $$\\frac{∂π_2}{∂y}=\\frac{\\theta}{4x} (\\underline a-y)^2-\\frac{\\theta}{2} (\\frac{y}{x})(\\underline a-y)+(1-\\theta)(\\overline a-x-2y)- (c+x+2y)=0$$\n",
    "\n"
   ]
  },
  {
   "cell_type": "markdown",
   "metadata": {},
   "source": [
    "From this first order condition, we can get $x$ as a function of parameters and $y$. We should verify if the revenue function is consistent with the region in which $x$ and $y$ lie in.\n",
    "\n",
    "$$x^*=\\frac{(1-\\theta) \\overline a-c}{2(1-\\theta)+2}-\\frac{1}{2} y^*$$\n",
    "\n",
    "$$x^*-b(\\underline a,y)=\\frac{(1-\\theta)\\overline a}{2(1-\\theta)+2}-\\frac{1}{2}y^*-\\frac{\\underline a-y^*}{2}=\\frac{(1-\\theta)\\overline a}{2(1-\\theta)+2}-\\frac{\\underline a}{2}=\\frac{1}{2(1-\\theta)+2}((1-\\theta)\\overline a-(2-\\theta)\\underline a)=\\frac{1}{2(1-\\theta)+2}(E(a)-2\\underline a)>0$$\n"
   ]
  },
  {
   "cell_type": "markdown",
   "metadata": {},
   "source": [
    "So $(x,y)$ does not lie in the region A.\n",
    "\n",
    "- In addition, we also have to verify the condition is consistent with the revenue function. \n",
    "\n",
    "Namely, we need to verify $R(Y,a) \\le X*P(X,a)$\n",
    "\n",
    "$$R(Y,a)-X*P(X,a)\n",
    "=\\frac{(\\underline a-y^*)^2}{4}-(\\overline a-x^*)*x^*<(\\frac{(\\overline a-y^*}{2}-(\\overline a-x^*))*(\\frac{(1-\\theta)\\overline a}{2(1-\\theta)+2}-\\frac{1}{2} y^*)<(x^*-\\frac{y^*}{2}-\\frac{\\overline a}{2})(\\frac{(1-\\theta) \\overline a}{2(1-θ)+2}-\\frac{1}{2}y^*)$$\n",
    "\n",
    "$$=(\\frac{(1-\\theta)\\overline a}{(2(1-\\theta)+2}-\\frac{1}{2}y^*-\\frac{y^*}{2}-\\frac{\\overline a}{2})*(\\frac{(1-\\theta) \\overline a}{2(1-\\theta)+2}-\\frac{1}{2} y^* )<0$$\n",
    "\n"
   ]
  },
  {
   "cell_type": "markdown",
   "metadata": {},
   "source": [
    "So the revenue function is consistent with the revenue functions summarized before. In this equilibrium, when the demand parameter a equals $\\underline a$, the capacity that two firms choose will be higher than the supply in the market. \n",
    "\n",
    "On the other hand, when the demand parameter is $\\overline a$, two firm will supply all their capacity. \n",
    "\n",
    "Although based on the above equations, we are able to characterize the solutions of the model without solving them. But the analytical solutions are still important for analysis.  \n",
    "\n",
    "Next, we will use python to get the analytical solution of two first order conditions.\n"
   ]
  },
  {
   "cell_type": "code",
   "execution_count": null,
   "metadata": {
    "collapsed": true
   },
   "outputs": [],
   "source": [
    "from sympy import symbols, exp, I\n",
    "from sympy.abc import theta, phi\n",
    "from sympy import *\n",
    "x= Symbol('x')\n",
    "y= Symbol('y')\n",
    "a= Symbol('a')\n",
    "a_= Symbol('a_')\n",
    "c= Symbol('c')\n",
    "mu= Symbol('mu')\n",
    "theta  = Symbol('theta')\n",
    "solve([(1-theta) * (a-2*x -y) -(c+2*x+y), theta/4 * ((a_-y)**2/x) -theta/2 * (y/x)*(a_-y)+(1-theta)*(a-x-2*y)-(c+x+2*y)],[x,y])"
   ]
  },
  {
   "cell_type": "markdown",
   "metadata": {},
   "source": [
    "Assuming $c=0$ (to make solution simple),we can get a simplified solutions:\n",
    "\n",
    "The first pair of solutions:\n",
    "\n",
    "$$x^*=\\frac{(\\theta-1)(\\theta+1)\\overline a}{6}-\\frac{(\\theta-2)\\theta\\underline a}{6}-\\frac{X^*}{12(\\theta-2)}$$\n",
    "\n",
    "$$y^*=\\frac{-(\\theta\\overline a-\\overline a-\\theta\\underline a)}{3}+\\frac{X^*}{6(\\theta-2)}$$\n",
    "\n",
    "The second pair of solutions:\n",
    "\n",
    "$$x^*=\\frac{(\\theta-1)(\\theta+1)\\overline a}{6}-\\frac{(\\theta-2)\\theta\\underline a}{6}+\\frac{X^*}{(12(\\theta-2)}$$\n",
    "\n",
    "$$y^*=-\\frac{(\\theta\\overline a-\\overline a-\\theta\\underline a)}{3}+\\frac{X^*}{6(\\theta-2)}$$\n",
    "\n",
    "$$X^*=\\sqrt{4\\theta(\\theta-1)(\\theta-2)^2 (\\overline a-\\underline a)^2+4\\overline a^2+2\\theta[\\overline a (\\theta-1)-\\underline a(\\theta-2)]*[\\overline a(\\theta-1)+\\underline a (\\theta-2)] )}$$\n"
   ]
  },
  {
   "cell_type": "markdown",
   "metadata": {},
   "source": [
    "After analyzing these solutions, we know that:\n",
    "\n",
    "First, the two pairs of solutions are real, not complex.\n",
    "\n",
    "Second, one of the solutions are not positive, so there is only one nontrivial solution of this model. There is only one equilibrium in this model. \n",
    "This is different from Reynolds & Wilson’s model (Reynolds & Wilson, 2000). In their model there is more equilibria and they did not rule out anyone of them.\n",
    "\n",
    "Third, equilibrium in this new model is still asymmetric.   \n"
   ]
  },
  {
   "cell_type": "markdown",
   "metadata": {},
   "source": [
    "## Proof\n",
    "\n",
    "- Analyze the terms in $X^*$\n",
    "\n",
    "The last term:\n",
    "$2\\theta[\\overline a (\\theta-1)-\\underline a (\\theta-2)]*[\\overline a (\\theta-1)+\\underline a (\\theta-2)]>0$\n",
    "\n",
    "The first bracket in this term is negative, this is term is exactly our assumption $2\\underline a<E(a)-c$.\n",
    "\n",
    "$$\\overline a (\\theta-1)-\\underline a (\\theta-2)=2\\underline a-\\overline a (1-\\theta)-\\underline a \\theta=2\\underline a-(E(a)-c)<0$$\n",
    "\n",
    "The second bracket is also negative, because $(\\theta-1)<0$, $(\\theta-2)<0$. \n",
    "\n",
    "The product of two negative term is positive.\n",
    "\n",
    "The sum of firm two terms is non-negative.\n",
    "\n",
    "$$4\\theta(\\theta-1) (\\theta-2)^2 (\\overline a-\\underline a)^2+4\\overline a^2>4\\theta(\\theta-1) (\\theta-2)^2 (\\overline a-\\underline a)^2+(\\theta-2)^2 (\\overline a-\\underline a)^2$$\n",
    "\n",
    "$$=(4\\theta^2-4\\theta+1)(\\theta-2)^2 (\\overline a-\\underline a)^2=(2\\theta-1)^2 (\\theta-2)^2 (\\overline a-\\underline a)^2\\ge 0$$\n",
    "\n",
    "Therefore, both of these two pairs of solutions are not complex. \n"
   ]
  },
  {
   "cell_type": "markdown",
   "metadata": {
    "collapsed": true
   },
   "source": [
    "- Analyze the term $\\frac{(\\theta-1)(\\theta+1)\\overline a}{6}-\\frac{(\\theta-2)\\theta\\underline a}{6}$.\n",
    "\n",
    "$$\\frac{(\\theta-1)(\\theta+1)\\overline a}{6}-\\frac{(\\theta-2)\\theta\\underline a)}{6}=\\frac{(\\theta^2-1)\\overline a}{6}-\\frac{(\\theta-1-1)\\theta\\underline a}{6}$$\n",
    "\n",
    "$$<\\frac{(\\theta^2-1) \\overline a}{6}-\\frac{(\\theta-1)\\theta\\overline a-\\theta\\underline a}{6}=\\frac{(\\theta-1) \\overline a+\\theta\\underline a}{6}=\\frac{-E(a)+2\\theta\\underline a}{6}<\\frac{-E(a)+2\\underline a}{6}<0$$\n",
    "\n",
    "Based on this we know that the second pair of solution is negative ($x^*<0$). \n",
    "\n",
    "Moreover, we can prove that the remained solution is positive. \n",
    "\n",
    "Namely, it is nontrivial, so the nontrivial solution of this model is unique.\n"
   ]
  },
  {
   "cell_type": "markdown",
   "metadata": {},
   "source": [
    "- $x^*-y^*>0$, this is asymmetric equilibrium."
   ]
  },
  {
   "cell_type": "markdown",
   "metadata": {},
   "source": [
    "# Conclusion\n",
    "\n",
    "In our model, we introduce one of a new assumption, which is the inverse demand function of input market.  Because the marginal cost of input will be higher if the firms purchase more input. This may have ambiguous effect on the asymmetric equilibrium. \n",
    "\n",
    "Moreover, this new assumption makes this model more difficult to solve.  In the model of Reynolds & Wilson (2000), the author have to admit that it is not easy to find the analytical solution of the model. The inability to solving the polynomial of reaction functions makes the analysis more difficulty. \n",
    "\n",
    "In this assignment, by using the symbolic operation of Python, we overcome this problem.\n",
    "\n",
    "Based on the above analysis, despite some changes in the assumption, we can still reproduce some results of Reynolds & Wilson (2000), though not all of them. \n",
    "\n",
    "The new assumption in our model eliminate one of the equilibria in their model. However, the only nontrivial solution have a lot in common with the solutions in their model. The capacities are still asymmetric.\n"
   ]
  }
 ],
 "metadata": {
  "kernelspec": {
   "display_name": "Python 3",
   "language": "python",
   "name": "python3"
  },
  "language_info": {
   "codemirror_mode": {
    "name": "ipython",
    "version": 3
   },
   "file_extension": ".py",
   "mimetype": "text/x-python",
   "name": "python",
   "nbconvert_exporter": "python",
   "pygments_lexer": "ipython3",
   "version": "3.6.1"
  },
  "org": null
 },
 "nbformat": 4,
 "nbformat_minor": 1
}
